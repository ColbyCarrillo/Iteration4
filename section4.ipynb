{
 "cells": [
  {
   "cell_type": "code",
   "execution_count": 1,
   "metadata": {},
   "outputs": [],
   "source": [
    "import findspark\n",
    "findspark.init('/home/ubuntu/spark-2.1.1-bin-hadoop2.7')\n",
    "import pyspark\n",
    "from pyspark.sql import SparkSession\n",
    "spark = SparkSession.builder.appName('wine').getOrCreate()"
   ]
  },
  {
   "cell_type": "code",
   "execution_count": 2,
   "metadata": {},
   "outputs": [],
   "source": [
    "from pyspark.sql.types import (StructField,StringType,IntegerType,StructType,DoubleType)\n",
    "\n",
    "redData = spark.read.format(\"csv\").option(\"header\", \"true\").load(\"./data/winequality-red.csv\")\n",
    "col=redData.columns\n",
    "\n",
    "data_schema = [StructField(col[0],DoubleType(),True),\n",
    "              StructField(col[1],DoubleType(),True),\n",
    "              StructField(col[2],DoubleType(),True),\n",
    "              StructField(col[3],DoubleType(),True),\n",
    "              StructField(col[4],DoubleType(),True),\n",
    "              StructField(col[5],DoubleType(),True),\n",
    "              StructField(col[6],DoubleType(),True),\n",
    "              StructField(col[7],DoubleType(),True),\n",
    "              StructField(col[8],DoubleType(),True),\n",
    "              StructField(col[9],DoubleType(),True),\n",
    "              StructField(col[10],DoubleType(),True),\n",
    "              StructField(col[11],IntegerType(),True)]\n",
    "final_struct = StructType(fields=data_schema)\n",
    "\n",
    "redData = spark.read.format(\"csv\").option(\"header\", \"true\").load(\"./data/winequality-red.csv\", schema=final_struct)\n",
    "whiteData = spark.read.format(\"csv\").option(\"header\", \"true\").load(\"./data/winequality-white.csv\", schema=final_struct)\n",
    "\n",
    "\n",
    "from pyspark.sql.functions import lit\n",
    "\n",
    "redData=redData.withColumn(\"color\", lit('red'))\n",
    "whiteData=whiteData.withColumn(\"color\", lit('white'))\n",
    "\n",
    "combinedData = redData.union(whiteData)\n",
    "col=combinedData.columns"
   ]
  },
  {
   "cell_type": "code",
   "execution_count": 18,
   "metadata": {},
   "outputs": [
    {
     "name": "stdout",
     "output_type": "stream",
     "text": [
      "+--------------+-------------------+\n",
      "|residual sugar| log residual sugar|\n",
      "+--------------+-------------------+\n",
      "|           1.9| 0.6418538861723947|\n",
      "|           2.6| 0.9555114450274363|\n",
      "|           2.3| 0.8329091229351039|\n",
      "|           1.9| 0.6418538861723947|\n",
      "|           1.9| 0.6418538861723947|\n",
      "|           1.8| 0.5877866649021191|\n",
      "|           1.6|0.47000362924573563|\n",
      "|           1.2| 0.1823215567939546|\n",
      "|           2.0| 0.6931471805599453|\n",
      "|           6.1| 1.8082887711792655|\n",
      "|           1.8| 0.5877866649021191|\n",
      "|           6.1| 1.8082887711792655|\n",
      "|           1.6|0.47000362924573563|\n",
      "|           1.6|0.47000362924573563|\n",
      "|           3.8|   1.33500106673234|\n",
      "|           3.9| 1.3609765531356006|\n",
      "|           1.8| 0.5877866649021191|\n",
      "|           1.7| 0.5306282510621704|\n",
      "|           4.4| 1.4816045409242156|\n",
      "|           1.8| 0.5877866649021191|\n",
      "+--------------+-------------------+\n",
      "only showing top 20 rows\n",
      "\n"
     ]
    }
   ],
   "source": [
    "from pyspark.sql.functions import log\n",
    "combinedData.withColumn(\"log residual sugar\",log(\"residual sugar\")).select([\"residual sugar\",\"log residual sugar\"]).show()"
   ]
  },
  {
   "cell_type": "code",
   "execution_count": 21,
   "metadata": {},
   "outputs": [
    {
     "data": {
      "text/plain": [
       "{'boxes': [<matplotlib.lines.Line2D at 0x7fe3253428d0>],\n",
       " 'caps': [<matplotlib.lines.Line2D at 0x7fe325346128>,\n",
       "  <matplotlib.lines.Line2D at 0x7fe325346550>],\n",
       " 'fliers': [<matplotlib.lines.Line2D at 0x7fe325346da0>],\n",
       " 'means': [],\n",
       " 'medians': [<matplotlib.lines.Line2D at 0x7fe325346978>],\n",
       " 'whiskers': [<matplotlib.lines.Line2D at 0x7fe3253426d8>,\n",
       "  <matplotlib.lines.Line2D at 0x7fe325342cc0>]}"
      ]
     },
     "execution_count": 21,
     "metadata": {},
     "output_type": "execute_result"
    },
    {
     "data": {
      "image/png": "[encoded data removed]",
      "text/plain": [
       "<Figure size 720x360 with 1 Axes>"
      ]
     },
     "metadata": {},
     "output_type": "display_data"
    }
   ],
   "source": [
    "import matplotlib.pyplot as plt\n",
    "import numpy as np\n",
    "\n",
    "plt.rcParams['figure.figsize'] = [10, 5]\n",
    "\n",
    "fig1, ax1 = plt.subplots()\n",
    "ax1.set_title(\"Logged Residual Sugar\")\n",
    "plt.boxplot(x=np.asarray(combinedData.withColumn(\"log residual sugar\",log(\"residual sugar\")).select([\"log residual sugar\"]).collect()),vert=False)"
   ]
  }
 ],
 "metadata": {
  "kernelspec": {
   "display_name": "Python 3",
   "language": "python",
   "name": "python3"
  },
  "language_info": {
   "codemirror_mode": {
    "name": "ipython",
    "version": 3
   },
   "file_extension": ".py",
   "mimetype": "text/x-python",
   "name": "python",
   "nbconvert_exporter": "python",
   "pygments_lexer": "ipython3",
   "version": "3.5.2"
  }
 },
 "nbformat": 4,
 "nbformat_minor": 2
}
