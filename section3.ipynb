{
 "cells": [
  {
   "cell_type": "code",
   "execution_count": 1,
   "metadata": {},
   "outputs": [],
   "source": [
    "import findspark\n",
    "findspark.init('/home/ubuntu/spark-2.1.1-bin-hadoop2.7')\n",
    "import pyspark\n",
    "from pyspark.sql import SparkSession\n",
    "spark = SparkSession.builder.appName('wine').getOrCreate()"
   ]
  },
  {
   "cell_type": "code",
   "execution_count": 26,
   "metadata": {},
   "outputs": [],
   "source": [
    "from pyspark.sql.types import (StructField,StringType,IntegerType,StructType,DoubleType)\n",
    "\n",
    "redData = spark.read.format(\"csv\").option(\"header\", \"true\").load(\"./data/winequality-red.csv\")\n",
    "col=redData.columns\n",
    "\n",
    "data_schema = [StructField(col[0],DoubleType(),True),\n",
    "              StructField(col[1],DoubleType(),True),\n",
    "              StructField(col[2],DoubleType(),True),\n",
    "              StructField(col[3],DoubleType(),True),\n",
    "              StructField(col[4],DoubleType(),True),\n",
    "              StructField(col[5],DoubleType(),True),\n",
    "              StructField(col[6],DoubleType(),True),\n",
    "              StructField(col[7],DoubleType(),True),\n",
    "              StructField(col[8],DoubleType(),True),\n",
    "              StructField(col[9],DoubleType(),True),\n",
    "              StructField(col[10],DoubleType(),True),\n",
    "              StructField(col[11],IntegerType(),True)]\n",
    "final_struct = StructType(fields=data_schema)\n",
    "\n",
    "redData = spark.read.format(\"csv\").option(\"header\", \"true\").load(\"./data/winequality-red.csv\", schema=final_struct)\n",
    "whiteData = spark.read.format(\"csv\").option(\"header\", \"true\").load(\"./data/winequality-white.csv\", schema=final_struct)\n",
    "\n",
    "\n",
    "from pyspark.sql.functions import lit\n",
    "\n",
    "redData=redData.withColumn(\"color\", lit('red'))\n",
    "whiteData=whiteData.withColumn(\"color\", lit('white'))\n",
    "\n",
    "combinedData = redData.union(whiteData)\n",
    "col=combinedData.columns"
   ]
  },
  {
   "cell_type": "code",
   "execution_count": 28,
   "metadata": {},
   "outputs": [],
   "source": [
    "# A few things we need to do before Spark can accept the data!\n",
    "# It needs to be in the form of two columns: \"label\" and \"features\".\n",
    "\n",
    "# Import VectorAssembler and Vectors\n",
    "from pyspark.ml.linalg import Vectors\n",
    "from pyspark.ml.feature import VectorAssembler\n",
    "\n",
    "qualityModelsDf = alcoholContentModelDf = combinedData.select(col[0:12])\n",
    "colorModelDf = combinedData.select('fixed acidity', \n",
    "           'volatile acidity', \n",
    "           'citric acid',\n",
    "           'residual sugar', \n",
    "           'chlorides', \n",
    "           'free sulfur dioxide',\n",
    "           'total sulfur dioxide', \n",
    "           'density', \n",
    "           'pH', \n",
    "           'sulphates', \n",
    "           'alcohol',\n",
    "           'color')\n",
    "\n",
    "# Combine all features into one vector named features.\n",
    "assembler = VectorAssembler(\n",
    "inputCols=['fixed acidity', \n",
    "           'volatile acidity', \n",
    "           'citric acid',\n",
    "           'residual sugar', \n",
    "           'chlorides', \n",
    "           'free sulfur dioxide',\n",
    "           'total sulfur dioxide', \n",
    "           'density', \n",
    "           'pH', \n",
    "           'sulphates', \n",
    "           'alcohol'],\n",
    "              outputCol=\"features\")\n",
    "\n",
    "# Let's transform the data. \n",
    "outputQuality = assembler.transform(qualityModelsDf)\n",
    "\n",
    "# Let's import the string indexer (similar to the logistic regression exercises).\n",
    "from pyspark.ml.feature import StringIndexer\n",
    "\n",
    "indexerQuality = StringIndexer(inputCol=col[11], outputCol=\"QualityIndex\")\n",
    "output_fixed_quality = indexerQuality.fit(outputQuality).transform(outputQuality)\n",
    "\n",
    "# Let's select the two columns we want. Features (which contains vectors), and the predictor.\n",
    "final_data_quality = output_fixed_quality.select(\"features\",'QualityIndex')\n",
    "\n",
    "# Split the training and testing set.\n",
    "train_data_quality,test_data_quality = final_data_quality.randomSplit([0.8,0.2])\n",
    "\n",
    "\n",
    "#Alcohol\n",
    "\n",
    "# Combine all features into one vector named features.\n",
    "assembler = VectorAssembler(\n",
    "inputCols=['fixed acidity', \n",
    "           'volatile acidity', \n",
    "           'citric acid',\n",
    "           'residual sugar', \n",
    "           'chlorides', \n",
    "           'free sulfur dioxide',\n",
    "           'total sulfur dioxide', \n",
    "           'density', \n",
    "           'pH', \n",
    "           'sulphates', \n",
    "           'quality'],\n",
    "              outputCol=\"features\")\n",
    "\n",
    "# Let's transform the data. \n",
    "outputAlcohol = assembler.transform(alcoholContentModelDf)\n",
    "\n",
    "\n",
    "final_data_alcohol = outputAlcohol.select(\"features\",'alcohol')\n",
    "\n",
    "# Split the training and testing set.\n",
    "train_data_alcohol,test_data_alcohol = final_data_alcohol.randomSplit([0.8,0.2])\n",
    "\n",
    "\n",
    "#Color\n",
    "\n",
    "assembler = VectorAssembler(\n",
    "inputCols=['fixed acidity', \n",
    "           'volatile acidity', \n",
    "           'citric acid',\n",
    "           'residual sugar', \n",
    "           'chlorides', \n",
    "           'free sulfur dioxide',\n",
    "           'total sulfur dioxide', \n",
    "           'density', \n",
    "           'pH', \n",
    "           'sulphates', \n",
    "           'alcohol'],\n",
    "              outputCol=\"features\")\n",
    "\n",
    "# Let's transform the data. \n",
    "outputColor = assembler.transform(colorModelDf)\n",
    "\n",
    "# Let's import the string indexer (similar to the logistic regression exercises).\n",
    "from pyspark.ml.feature import StringIndexer\n",
    "\n",
    "indexerColor = StringIndexer(inputCol=col[12], outputCol=\"ColorIndex\")\n",
    "output_fixed_color = indexerColor.fit(outputColor).transform(outputColor)\n",
    "\n",
    "# Let's select the two columns we want. Features (which contains vectors), and the predictor.\n",
    "final_data_color = output_fixed_color.select(\"features\",'ColorIndex')\n",
    "\n",
    "# Split the training and testing set.\n",
    "train_data_color,test_data_color = final_data_color.randomSplit([0.8,0.2])\n"
   ]
  },
  {
   "cell_type": "markdown",
   "metadata": {},
   "source": [
    "Start of Dirty Data Anylsis"
   ]
  },
  {
   "cell_type": "code",
   "execution_count": 14,
   "metadata": {},
   "outputs": [],
   "source": [
    "redDirtyData = spark.read.format(\"csv\").option(\"header\", \"true\").load(\"./data/winequality-red - Dirty.csv\", schema=final_struct)\n",
    "whiteDirtyData = spark.read.format(\"csv\").option(\"header\", \"true\").load(\"./data/winequality-white - Dirty.csv\", schema=final_struct)\n",
    "\n",
    "# Add variable for wine color\n",
    "redDirtyData=redDirtyData.withColumn(\"color\", lit('red'))\n",
    "whiteDirtyData=whiteDirtyData.withColumn(\"color\", lit('white'))\n",
    "\n",
    "combinedDataDirty = redDirtyData.union(whiteDirtyData)\n",
    "\n",
    "colDirty = combinedDataDirty.columns"
   ]
  },
  {
   "cell_type": "code",
   "execution_count": 18,
   "metadata": {},
   "outputs": [
    {
     "name": "stdout",
     "output_type": "stream",
     "text": [
      "Before NA Remove: \n",
      "fixed acidity 6497\n",
      "volatile acidity 6497\n",
      "citric acid 6497\n",
      "residual sugar 6497\n",
      "chlorides 6497\n",
      "free sulfur dioxide 6497\n",
      "total sulfur dioxide 6497\n",
      "density 6497\n",
      "pH 6497\n",
      "sulphates 6497\n",
      "alcohol 6497\n",
      "quality 6497\n",
      "color 6497\n",
      "\n",
      "After NA Remove: \n",
      "fixed acidity 6406\n",
      "volatile acidity 6406\n",
      "citric acid 6406\n",
      "residual sugar 6406\n",
      "chlorides 6406\n",
      "free sulfur dioxide 6406\n",
      "total sulfur dioxide 6406\n",
      "density 6406\n",
      "pH 6406\n",
      "sulphates 6406\n",
      "alcohol 6406\n",
      "quality 6406\n",
      "color 6406\n"
     ]
    }
   ],
   "source": [
    "print(\"Before NA Remove: \")\n",
    "for column in colDirty:\n",
    "    print(str(column) +\" \" + str(combinedDataDirty.select(column).count()))\n",
    "combinedDataDirty=combinedDataDirty.na.drop()\n",
    "print(\"\")\n",
    "print(\"After NA Remove: \")\n",
    "for column in colDirty:\n",
    "    print(str(column) +\" \" + str(combinedDataDirty.select(column).count()))"
   ]
  },
  {
   "cell_type": "code",
   "execution_count": 19,
   "metadata": {},
   "outputs": [
    {
     "name": "stdout",
     "output_type": "stream",
     "text": [
      "+-------+------------------+-------------------+-------------------+------------------+--------------------+\n",
      "|summary|     fixed acidity|   volatile acidity|        citric acid|    residual sugar|           chlorides|\n",
      "+-------+------------------+-------------------+-------------------+------------------+--------------------+\n",
      "|  count|              6406|               6406|               6406|              6406|                6406|\n",
      "|   mean|7.2095769591008345|0.33910318451451826| 0.3187839525444844| 6.220465188885428|0.055971901342491366|\n",
      "| stddev|1.2933333506498128| 0.1642307418847679|0.14528092090220357|25.259236852529188| 0.03518619358397865|\n",
      "|    min|               3.8|               0.08|                0.0|               0.6|               0.009|\n",
      "|    max|              15.9|               1.58|               1.66|             999.0|               0.611|\n",
      "+-------+------------------+-------------------+-------------------+------------------+--------------------+\n",
      "\n",
      "None\n",
      "+-------+-------------------+--------------------+--------------------+------------------+------------------+\n",
      "|summary|free sulfur dioxide|total sulfur dioxide|             density|                pH|         sulphates|\n",
      "+-------+-------------------+--------------------+--------------------+------------------+------------------+\n",
      "|  count|               6406|                6406|                6406|              6406|              6406|\n",
      "|   mean| 30.590149859506713|  115.92873868248518|  0.9946864127380539|3.2183593506088033|0.5307040274742444|\n",
      "| stddev| 17.766418288630316|   56.47007693690274|0.003002948530593...|0.1610331867672659|0.1476224930110357|\n",
      "|    min|                1.0|                 6.0|             0.98711|              2.72|              0.22|\n",
      "|    max|              289.0|               440.0|             1.03898|              4.01|               2.0|\n",
      "+-------+-------------------+--------------------+--------------------+------------------+------------------+\n",
      "\n",
      "None\n",
      "+-------+------------------+------------------+-----+\n",
      "|summary|           alcohol|           quality|color|\n",
      "+-------+------------------+------------------+-----+\n",
      "|  count|              6406|              6406| 6406|\n",
      "|   mean|10.493916640645974| 5.818919762722448| null|\n",
      "| stddev|1.1931294342504275|0.8744751453424552| null|\n",
      "|    min|               8.0|                 3|  red|\n",
      "|    max|              14.9|                 9|white|\n",
      "+-------+------------------+------------------+-----+\n",
      "\n",
      "None\n"
     ]
    }
   ],
   "source": [
    "print(combinedDataDirty.describe(col[0:5]).show())\n",
    "print(combinedDataDirty.describe(col[5:10]).show())\n",
    "print(combinedDataDirty.describe(col[10:]).show())"
   ]
  },
  {
   "cell_type": "code",
   "execution_count": 21,
   "metadata": {
    "scrolled": false
   },
   "outputs": [
    {
     "data": {
      "image/png": "[encoded data removed]",
      "text/plain": [
       "<Figure size 720x360 with 1 Axes>"
      ]
     },
     "metadata": {},
     "output_type": "display_data"
    },
    {
     "data": {
      "image/png": "[encoded data removed]",
      "text/plain": [
       "<Figure size 720x360 with 1 Axes>"
      ]
     },
     "metadata": {},
     "output_type": "display_data"
    },
    {
     "data": {
      "image/png": "[encoded data removed]",
      "text/plain": [
       "<Figure size 720x360 with 1 Axes>"
      ]
     },
     "metadata": {},
     "output_type": "display_data"
    },
    {
     "data": {
      "image/png": "[encoded data removed]",
      "text/plain": [
       "<Figure size 720x360 with 1 Axes>"
      ]
     },
     "metadata": {},
     "output_type": "display_data"
    },
    {
     "data": {
      "image/png": "[encoded data removed]",
      "text/plain": [
       "<Figure size 720x360 with 1 Axes>"
      ]
     },
     "metadata": {},
     "output_type": "display_data"
    },
    {
     "data": {
      "image/png": "[encoded data removed]",
      "text/plain": [
       "<Figure size 720x360 with 1 Axes>"
      ]
     },
     "metadata": {},
     "output_type": "display_data"
    },
    {
     "data": {
      "image/png": "[encoded data removed]",
      "text/plain": [
       "<Figure size 720x360 with 1 Axes>"
      ]
     },
     "metadata": {},
     "output_type": "display_data"
    },
    {
     "data": {
      "image/png": "[encoded data removed]",
      "text/plain": [
       "<Figure size 720x360 with 1 Axes>"
      ]
     },
     "metadata": {},
     "output_type": "display_data"
    },
    {
     "data": {
      "image/png": "[encoded data removed]",
      "text/plain": [
       "<Figure size 720x360 with 1 Axes>"
      ]
     },
     "metadata": {},
     "output_type": "display_data"
    },
    {
     "data": {
      "image/png": "[encoded data removed]",
      "text/plain": [
       "<Figure size 720x360 with 1 Axes>"
      ]
     },
     "metadata": {},
     "output_type": "display_data"
    }
   ],
   "source": [
    "import matplotlib.pyplot as plt\n",
    "import numpy as np\n",
    "\n",
    "plt.rcParams['figure.figsize'] = [10, 5]\n",
    "\n",
    "for column in colDirty[0:10]:\n",
    "    fig1, ax1 = plt.subplots()\n",
    "    ax1.set_title(column)\n",
    "    plt.boxplot(x=np.asarray(combinedDataDirty.select(column).collect()),vert=False)"
   ]
  },
  {
   "cell_type": "code",
   "execution_count": 23,
   "metadata": {},
   "outputs": [
    {
     "data": {
      "text/plain": [
       "{'boxes': [<matplotlib.lines.Line2D at 0x7ff1ef2690b8>],\n",
       " 'caps': [<matplotlib.lines.Line2D at 0x7ff1ef269ac8>,\n",
       "  <matplotlib.lines.Line2D at 0x7ff1ef269ef0>],\n",
       " 'fliers': [<matplotlib.lines.Line2D at 0x7ff1ef26f780>],\n",
       " 'means': [],\n",
       " 'medians': [<matplotlib.lines.Line2D at 0x7ff1ef26f358>],\n",
       " 'whiskers': [<matplotlib.lines.Line2D at 0x7ff1ef269208>,\n",
       "  <matplotlib.lines.Line2D at 0x7ff1ef2696a0>]}"
      ]
     },
     "execution_count": 23,
     "metadata": {},
     "output_type": "execute_result"
    },
    {
     "data": {
      "image/png": "[encoded data removed]",
      "text/plain": [
       "<Figure size 720x360 with 1 Axes>"
      ]
     },
     "metadata": {},
     "output_type": "display_data"
    }
   ],
   "source": [
    "combinedDataDirty=combinedDataDirty.filter(combinedDataDirty[\"residual sugar\"]<200)\n",
    "fig1, ax1 = plt.subplots()\n",
    "ax1.set_title(\"residual sugar\")\n",
    "plt.boxplot(x=np.asarray(combinedDataDirty.select(\"residual sugar\").collect()),vert=False)"
   ]
  }
 ],
 "metadata": {
  "kernelspec": {
   "display_name": "Python 3",
   "language": "python",
   "name": "python3"
  },
  "language_info": {
   "codemirror_mode": {
    "name": "ipython",
    "version": 3
   },
   "file_extension": ".py",
   "mimetype": "text/x-python",
   "name": "python",
   "nbconvert_exporter": "python",
   "pygments_lexer": "ipython3",
   "version": "3.5.2"
  }
 },
 "nbformat": 4,
 "nbformat_minor": 2
}
