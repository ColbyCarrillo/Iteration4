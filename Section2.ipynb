{
 "cells": [
  {
   "cell_type": "code",
   "execution_count": 1,
   "metadata": {},
   "outputs": [],
   "source": [
    "import findspark\n",
    "findspark.init('/home/ubuntu/spark-2.1.1-bin-hadoop2.7')\n",
    "import pyspark\n",
    "from pyspark.sql import SparkSession\n",
    "spark = SparkSession.builder.appName('wine').getOrCreate()"
   ]
  },
  {
   "cell_type": "code",
   "execution_count": 2,
   "metadata": {},
   "outputs": [
    {
     "name": "stdout",
     "output_type": "stream",
     "text": [
      "root\n",
      " |-- fixed acidity: string (nullable = true)\n",
      " |-- volatile acidity: string (nullable = true)\n",
      " |-- citric acid: string (nullable = true)\n",
      " |-- residual sugar: string (nullable = true)\n",
      " |-- chlorides: string (nullable = true)\n",
      " |-- free sulfur dioxide: string (nullable = true)\n",
      " |-- total sulfur dioxide: string (nullable = true)\n",
      " |-- density: string (nullable = true)\n",
      " |-- pH: string (nullable = true)\n",
      " |-- sulphates: string (nullable = true)\n",
      " |-- alcohol: string (nullable = true)\n",
      " |-- quality: string (nullable = true)\n",
      "\n",
      "root\n",
      " |-- fixed acidity: double (nullable = true)\n",
      " |-- volatile acidity: double (nullable = true)\n",
      " |-- citric acid: double (nullable = true)\n",
      " |-- residual sugar: double (nullable = true)\n",
      " |-- chlorides: double (nullable = true)\n",
      " |-- free sulfur dioxide: double (nullable = true)\n",
      " |-- total sulfur dioxide: double (nullable = true)\n",
      " |-- density: double (nullable = true)\n",
      " |-- pH: double (nullable = true)\n",
      " |-- sulphates: double (nullable = true)\n",
      " |-- alcohol: double (nullable = true)\n",
      " |-- quality: integer (nullable = true)\n",
      "\n"
     ]
    }
   ],
   "source": [
    "# Let's read in the data. Note that it's in the format of JSON\n",
    "from pyspark.sql.types import (StructField,StringType,IntegerType,StructType,DoubleType)\n",
    "\n",
    "redData = spark.read.format(\"csv\").option(\"header\", \"true\").load(\"./data/winequality-red.csv\")\n",
    "whiteData = spark.read.format(\"csv\").option(\"header\", \"true\").load(\"./data/winequality-white.csv\")\n",
    "redData.printSchema()\n",
    "col=redData.columns\n",
    "\n",
    "data_schema = [StructField(col[0],DoubleType(),True),\n",
    "              StructField(col[1],DoubleType(),True),\n",
    "              StructField(col[2],DoubleType(),True),\n",
    "              StructField(col[3],DoubleType(),True),\n",
    "              StructField(col[4],DoubleType(),True),\n",
    "              StructField(col[5],DoubleType(),True),\n",
    "              StructField(col[6],DoubleType(),True),\n",
    "              StructField(col[7],DoubleType(),True),\n",
    "              StructField(col[8],DoubleType(),True),\n",
    "              StructField(col[9],DoubleType(),True),\n",
    "              StructField(col[10],DoubleType(),True),\n",
    "              StructField(col[11],IntegerType(),True)]\n",
    "final_struct = StructType(fields=data_schema)\n",
    "\n",
    "redData = spark.read.format(\"csv\").option(\"header\", \"true\").load(\"./data/winequality-red.csv\", schema=final_struct)\n",
    "whiteData = spark.read.format(\"csv\").option(\"header\", \"true\").load(\"./data/winequality-white.csv\", schema=final_struct)\n",
    "\n",
    "redData.printSchema()"
   ]
  },
  {
   "cell_type": "code",
   "execution_count": 3,
   "metadata": {},
   "outputs": [
    {
     "name": "stdout",
     "output_type": "stream",
     "text": [
      "['fixed acidity', 'volatile acidity', 'citric acid', 'residual sugar', 'chlorides', 'free sulfur dioxide', 'total sulfur dioxide', 'density', 'pH', 'sulphates', 'alcohol', 'quality', 'color']\n",
      "['fixed acidity', 'volatile acidity', 'citric acid', 'residual sugar', 'chlorides', 'free sulfur dioxide', 'total sulfur dioxide', 'density', 'pH', 'sulphates', 'alcohol', 'quality', 'color']\n"
     ]
    }
   ],
   "source": [
    "from pyspark.sql.functions import lit\n",
    "\n",
    "redData=redData.withColumn(\"color\", lit('red'))\n",
    "whiteData=whiteData.withColumn(\"color\", lit('white'))\n",
    "print(redData.columns)\n",
    "print(whiteData.columns)"
   ]
  },
  {
   "cell_type": "code",
   "execution_count": 4,
   "metadata": {},
   "outputs": [
    {
     "name": "stdout",
     "output_type": "stream",
     "text": [
      "[('fixed acidity', 'double'), ('volatile acidity', 'double'), ('citric acid', 'double'), ('residual sugar', 'double'), ('chlorides', 'double'), ('free sulfur dioxide', 'double'), ('total sulfur dioxide', 'double'), ('density', 'double'), ('pH', 'double'), ('sulphates', 'double'), ('alcohol', 'double'), ('quality', 'int'), ('color', 'string')]\n",
      "+-------+-----------------+-------------------+-------------------+------------------+-------------------+\n",
      "|summary|    fixed acidity|   volatile acidity|        citric acid|    residual sugar|          chlorides|\n",
      "+-------+-----------------+-------------------+-------------------+------------------+-------------------+\n",
      "|  count|             6497|               6497|               6497|              6497|               6497|\n",
      "|   mean| 7.21530706479913|0.33966599969216654|0.31863321533014727|  5.44323533938742|0.05603386178236105|\n",
      "| stddev|1.296433757799814|0.16463647408467896|0.14531786489759146|4.7578037431474165|0.03503360137245908|\n",
      "|    min|              3.8|               0.08|                0.0|               0.6|              0.009|\n",
      "|    max|             15.9|               1.58|               1.66|              65.8|              0.611|\n",
      "+-------+-----------------+-------------------+-------------------+------------------+-------------------+\n",
      "\n",
      "None\n",
      "+-------+-------------------+--------------------+--------------------+-------------------+-------------------+\n",
      "|summary|free sulfur dioxide|total sulfur dioxide|             density|                 pH|          sulphates|\n",
      "+-------+-------------------+--------------------+--------------------+-------------------+-------------------+\n",
      "|  count|               6497|                6497|                6497|               6497|               6497|\n",
      "|   mean| 30.525319378174544|   115.7445744189626|  0.9946966338309939| 3.2185008465445577| 0.5312682776666166|\n",
      "| stddev|   17.7493997720025|   56.52185452263029|0.002998673003719...|0.16078720210398784|0.14880587361449052|\n",
      "|    min|                1.0|                 6.0|             0.98711|               2.72|               0.22|\n",
      "|    max|              289.0|               440.0|             1.03898|               4.01|                2.0|\n",
      "+-------+-------------------+--------------------+--------------------+-------------------+-------------------+\n",
      "\n",
      "None\n",
      "+-------+------------------+------------------+-----+\n",
      "|summary|           alcohol|           quality|color|\n",
      "+-------+------------------+------------------+-----+\n",
      "|  count|              6497|              6497| 6497|\n",
      "|   mean|10.491800831149478| 5.818377712790519| null|\n",
      "| stddev|1.1927117488689813|0.8732552715311255| null|\n",
      "|    min|               8.0|                 3|  red|\n",
      "|    max|              14.9|                 9|white|\n",
      "+-------+------------------+------------------+-----+\n",
      "\n",
      "None\n"
     ]
    }
   ],
   "source": [
    "combinedData = redData.union(whiteData)\n",
    "col=combinedData.columns\n",
    "\n",
    "print(combinedData.dtypes)\n",
    "\n",
    "print(combinedData.describe(col[0:5]).show())\n",
    "print(combinedData.describe(col[5:10]).show())\n",
    "print(combinedData.describe(col[10:]).show())"
   ]
  },
  {
   "cell_type": "code",
   "execution_count": 5,
   "metadata": {},
   "outputs": [
    {
     "name": "stdout",
     "output_type": "stream",
     "text": [
      "fixed acidity 6490 of 6497\n",
      "volatile acidity 6494 of 6497\n",
      "citric acid 6495 of 6497\n",
      "residual sugar 6496 of 6497\n",
      "chlorides 6469 of 6497\n",
      "free sulfur dioxide 6494 of 6497\n",
      "total sulfur dioxide 6497 of 6497\n",
      "density 6496 of 6497\n",
      "pH 6497 of 6497\n",
      "sulphates 6489 of 6497\n"
     ]
    }
   ],
   "source": [
    "# 6 times StdDev - https://towardsdatascience.com/outlier-detection-an-etl-tutorial-with-spark-f4197eb84a7b\n",
    "\n",
    "# Also, it's good practice to use your sales average to fill missing data. \n",
    "from pyspark.sql.functions import countDistinct,avg,stddev,format_number\n",
    "\n",
    "for column in col[0:10]:\n",
    "    tempAvg=combinedData.select(avg(column)).collect()[0][0]\n",
    "    tempStd=combinedData.select(stddev(column)).collect()[0][0]\n",
    "    upBound=tempAvg+(6*tempStd)\n",
    "    lowBound=tempAvg-(6*tempStd)\n",
    "    #print(str(tempAvg)+ str(\" \")+str(tempStd)+ str(\" \")+str(upBound)+ str(\" \") + str(lowBound))\n",
    "    temp = combinedData.filter(combinedData[column] < upBound).select(column)\n",
    "    temp = temp.filter(temp[column] > lowBound).select(column)\n",
    "    print(str(column) + str(\" \")+ str(temp.count()) + str(\" of \") + str(combinedData.select(column).count()))"
   ]
  },
  {
   "cell_type": "code",
   "execution_count": 6,
   "metadata": {
    "scrolled": false
   },
   "outputs": [],
   "source": [
    "import matplotlib.pyplot as plt\n",
    "import numpy as np\n",
    "\n",
    "plt.rcParams['figure.figsize'] = [10, 5]\n",
    "\n",
    "for column in col[0:10]:\n",
    "    fig1, ax1 = plt.subplots()\n",
    "    ax1.set_title(column)\n",
    "    plt.boxplot(x=np.asarray(combinedData.select(column).collect()),vert=False)"
   ]
  },
  {
   "cell_type": "code",
   "execution_count": 7,
   "metadata": {},
   "outputs": [
    {
     "data": {
      "text/plain": [
       "Text(0,0.5,'Wine Color')"
      ]
     },
     "execution_count": 7,
     "metadata": {},
     "output_type": "execute_result"
    },
    {
     "data": {
      "image/png": "[encoded data removed]",
      "text/plain": [
       "<Figure size 432x288 with 1 Axes>"
      ]
     },
     "metadata": {},
     "output_type": "display_data"
    }
   ],
   "source": [
    "colorCnt = combinedData.groupBy('color').count()\n",
    "\n",
    "fig1, ax1 = plt.subplots()\n",
    "ax1.set_title(\"Wine Color Distribution\")\n",
    "plt.barh(y=[colorCnt.collect()[0][0],colorCnt.collect()[1][0]],\n",
    "         width=[colorCnt.collect()[0][1],colorCnt.collect()[1][1]],\n",
    "         color=[\"blue\",\"orange\"])\n",
    "plt.xlabel(\"Frequency\")\n",
    "plt.ylabel(\"Wine Color\")"
   ]
  },
  {
   "cell_type": "code",
   "execution_count": 8,
   "metadata": {},
   "outputs": [
    {
     "data": {
      "text/plain": [
       "Text(0,0.5,'Frequency')"
      ]
     },
     "execution_count": 8,
     "metadata": {},
     "output_type": "execute_result"
    },
    {
     "data": {
      "image/png": "[encoded data removed]",
      "text/plain": [
       "<Figure size 432x288 with 1 Axes>"
      ]
     },
     "metadata": {},
     "output_type": "display_data"
    }
   ],
   "source": [
    "qualityCnt = combinedData.groupBy('quality').count()\n",
    "qualityCnt.collect()\n",
    "\n",
    "fig1, ax1 = plt.subplots()\n",
    "ax1.set_title(\"Wine Quality Distribution\")\n",
    "plt.bar(x=[qualityCnt.collect()[1][0],\n",
    "           qualityCnt.collect()[4][0],\n",
    "           qualityCnt.collect()[2][0],\n",
    "           qualityCnt.collect()[0][0],\n",
    "           qualityCnt.collect()[6][0],\n",
    "           qualityCnt.collect()[5][0]],\n",
    "         height=[qualityCnt.collect()[1][1],\n",
    "           qualityCnt.collect()[4][1],\n",
    "           qualityCnt.collect()[2][1],\n",
    "           qualityCnt.collect()[0][1],\n",
    "           qualityCnt.collect()[6][1],\n",
    "           qualityCnt.collect()[5][1]],\n",
    "       color=[\"red\",\"green\",\"blue\",\"orange\",\"yellow\",\"brown\"])\n",
    "plt.xlabel(\"Quality\")\n",
    "plt.ylabel(\"Frequency\")"
   ]
  },
  {
   "cell_type": "code",
   "execution_count": 9,
   "metadata": {},
   "outputs": [
    {
     "name": "stdout",
     "output_type": "stream",
     "text": [
      "Before NA Remove: \n",
      "fixed acidity 6497\n",
      "volatile acidity 6497\n",
      "citric acid 6497\n",
      "residual sugar 6497\n",
      "chlorides 6497\n",
      "free sulfur dioxide 6497\n",
      "total sulfur dioxide 6497\n",
      "density 6497\n",
      "pH 6497\n",
      "sulphates 6497\n",
      "alcohol 6497\n",
      "quality 6497\n",
      "color 6497\n",
      "\n",
      "After NA Remove: \n",
      "fixed acidity 6497\n",
      "volatile acidity 6497\n",
      "citric acid 6497\n",
      "residual sugar 6497\n",
      "chlorides 6497\n",
      "free sulfur dioxide 6497\n",
      "total sulfur dioxide 6497\n",
      "density 6497\n",
      "pH 6497\n",
      "sulphates 6497\n",
      "alcohol 6497\n",
      "quality 6497\n",
      "color 6497\n"
     ]
    }
   ],
   "source": [
    "print(\"Before NA Remove: \")\n",
    "for column in col:\n",
    "    print(str(column) +\" \" + str(combinedData.select(column).count()))\n",
    "combinedData=combinedData.na.drop()\n",
    "print(\"\")\n",
    "print(\"After NA Remove: \")\n",
    "for column in col:\n",
    "    print(str(column) +\" \" + str(combinedData.select(column).count()))"
   ]
  },
  {
   "cell_type": "code",
   "execution_count": 22,
   "metadata": {},
   "outputs": [
    {
     "name": "stdout",
     "output_type": "stream",
     "text": [
      "+-------------+----------------+-----------+--------------+---------+-------------------+--------------------+-------+\n",
      "|fixed acidity|volatile acidity|citric acid|residual sugar|chlorides|free sulfur dioxide|total sulfur dioxide|density|\n",
      "+-------------+----------------+-----------+--------------+---------+-------------------+--------------------+-------+\n",
      "|          7.8|           0.965|        0.6|          65.8|    0.074|                8.0|               160.0|1.03898|\n",
      "+-------------+----------------+-----------+--------------+---------+-------------------+--------------------+-------+\n",
      "\n",
      "+----+---------+-------+-------+-----+\n",
      "|  pH|sulphates|alcohol|quality|color|\n",
      "+----+---------+-------+-------+-----+\n",
      "|3.39|     0.69|   11.7|      6|white|\n",
      "+----+---------+-------+-------+-----+\n",
      "\n"
     ]
    },
    {
     "data": {
      "text/plain": [
       "{'boxes': [<matplotlib.lines.Line2D at 0x7fd1aeb22588>],\n",
       " 'caps': [<matplotlib.lines.Line2D at 0x7fd1aeb22fd0>,\n",
       "  <matplotlib.lines.Line2D at 0x7fd1aeb27128>],\n",
       " 'fliers': [<matplotlib.lines.Line2D at 0x7fd1aeb275f8>],\n",
       " 'means': [],\n",
       " 'medians': [<matplotlib.lines.Line2D at 0x7fd1aeb27b00>],\n",
       " 'whiskers': [<matplotlib.lines.Line2D at 0x7fd1aeb22080>,\n",
       "  <matplotlib.lines.Line2D at 0x7fd1aeb22630>]}"
      ]
     },
     "execution_count": 22,
     "metadata": {},
     "output_type": "execute_result"
    },
    {
     "data": {
      "image/png": "[encoded data removed]",
      "text/plain": [
       "<Figure size 720x360 with 1 Axes>"
      ]
     },
     "metadata": {},
     "output_type": "display_data"
    }
   ],
   "source": [
    "combinedData.select(col[0:8]).filter(combinedData['residual sugar']>50).show()\n",
    "combinedData.select(col[8:]).filter(combinedData['residual sugar']>50).show()\n",
    "\n",
    "import matplotlib.pyplot as plt\n",
    "import numpy as np\n",
    "plt.rcParams['figure.figsize'] = [10, 5]\n",
    "plt.boxplot(np.array(combinedData.select('residual sugar').collect()),vert=False)"
   ]
  }
 ],
 "metadata": {
  "kernelspec": {
   "display_name": "Python 3",
   "language": "python",
   "name": "python3"
  },
  "language_info": {
   "codemirror_mode": {
    "name": "ipython",
    "version": 3
   },
   "file_extension": ".py",
   "mimetype": "text/x-python",
   "name": "python",
   "nbconvert_exporter": "python",
   "pygments_lexer": "ipython3",
   "version": "3.5.2"
  }
 },
 "nbformat": 4,
 "nbformat_minor": 2
}
