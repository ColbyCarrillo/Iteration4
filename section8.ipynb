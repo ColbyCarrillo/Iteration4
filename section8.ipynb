{
 "cells": [
  {
   "cell_type": "code",
   "execution_count": 1,
   "metadata": {},
   "outputs": [],
   "source": [
    "import findspark\n",
    "findspark.init('/home/ubuntu/spark-2.1.1-bin-hadoop2.7')\n",
    "import pyspark\n",
    "from pyspark.sql import SparkSession\n",
    "spark = SparkSession.builder.appName('wine').getOrCreate()"
   ]
  },
  {
   "cell_type": "code",
   "execution_count": 2,
   "metadata": {},
   "outputs": [],
   "source": [
    "from pyspark.sql.types import (StructField,StringType,IntegerType,StructType,DoubleType)\n",
    "import numpy as np\n",
    "\n",
    "redData = spark.read.format(\"csv\").option(\"header\", \"true\").load(\"./data/winequality-red.csv\")\n",
    "col=redData.columns\n",
    "\n",
    "data_schema = [StructField(col[0],DoubleType(),True),\n",
    "              StructField(col[1],DoubleType(),True),\n",
    "              StructField(col[2],DoubleType(),True),\n",
    "              StructField(col[3],DoubleType(),True),\n",
    "              StructField(col[4],DoubleType(),True),\n",
    "              StructField(col[5],DoubleType(),True),\n",
    "              StructField(col[6],DoubleType(),True),\n",
    "              StructField(col[7],DoubleType(),True),\n",
    "              StructField(col[8],DoubleType(),True),\n",
    "              StructField(col[9],DoubleType(),True),\n",
    "              StructField(col[10],DoubleType(),True),\n",
    "              StructField(col[11],IntegerType(),True)]\n",
    "final_struct = StructType(fields=data_schema)\n",
    "\n",
    "redData = spark.read.format(\"csv\").option(\"header\", \"true\").load(\"./data/winequality-red.csv\", schema=final_struct)\n",
    "whiteData = spark.read.format(\"csv\").option(\"header\", \"true\").load(\"./data/winequality-white.csv\", schema=final_struct)\n",
    "\n",
    "from pyspark.sql.functions import lit\n",
    "\n",
    "redData=redData.withColumn(\"color\", lit('red'))\n",
    "whiteData=whiteData.withColumn(\"color\", lit('white'))\n",
    "\n",
    "combinedData = redData.union(whiteData)\n",
    "col=combinedData.columns"
   ]
  },
  {
   "cell_type": "code",
   "execution_count": 3,
   "metadata": {},
   "outputs": [],
   "source": [
    "# Import VectorAssembler and Vectors\n",
    "from pyspark.ml.linalg import Vectors\n",
    "from pyspark.ml.feature import VectorAssembler\n",
    "\n",
    "qualityModelsDf = combinedData.select(col[0:12])\n",
    "\n",
    "# Combine all features into one vector named features.\n",
    "assembler = VectorAssembler(\n",
    "inputCols=['fixed acidity', \n",
    "           'volatile acidity', \n",
    "           'citric acid',\n",
    "           'residual sugar', \n",
    "           'chlorides', \n",
    "           'free sulfur dioxide',\n",
    "           'total sulfur dioxide', \n",
    "           'density', \n",
    "           'pH', \n",
    "           'sulphates', \n",
    "           'alcohol'],\n",
    "              outputCol=\"features\")\n",
    "\n",
    "# Let's transform the data. \n",
    "outputQuality = assembler.transform(qualityModelsDf)"
   ]
  },
  {
   "cell_type": "code",
   "execution_count": 4,
   "metadata": {},
   "outputs": [],
   "source": [
    "# Let's import the string indexer (similar to the logistic regression exercises).\n",
    "from pyspark.ml.feature import StringIndexer, OneHotEncoder\n",
    "\n",
    "indexerQuality = StringIndexer(inputCol=col[11], outputCol=\"QualityIndex\")\n",
    "#embark_encoder = OneHotEncoder(inputCol='QualityIndex',outputCol='QualityVec')\n",
    "outputQuality = indexerQuality.fit(outputQuality).transform(outputQuality)\n",
    "\n",
    "# Let's select the two columns we want. Features (which contains vectors), and the predictor.\n",
    "final_data_quality = outputQuality.select(\"features\",'QualityIndex')\n",
    "\n",
    "# Split the training and testing set.\n",
    "train_data_quality,test_data_quality = final_data_quality.randomSplit([0.8,0.2])"
   ]
  },
  {
   "cell_type": "code",
   "execution_count": 5,
   "metadata": {},
   "outputs": [],
   "source": [
    "# Let's import the relevant classifiers. \n",
    "from pyspark.ml.classification import DecisionTreeClassifier,GBTClassifier,RandomForestClassifier\n",
    "from pyspark.ml import Pipeline\n",
    "\n",
    "rfc5020 = RandomForestClassifier(labelCol='QualityIndex',featuresCol='features',numTrees=50, maxDepth=20, seed=123456789)\n",
    "rfc100 = RandomForestClassifier(labelCol='QualityIndex',featuresCol='features',numTrees=100, seed=123456789)\n",
    "rfc1030 = RandomForestClassifier(labelCol='QualityIndex',featuresCol='features',numTrees=10, maxDepth=30, seed=123456789)\n",
    "rfc = RandomForestClassifier(labelCol='QualityIndex',featuresCol='features', seed=123456789)"
   ]
  },
  {
   "cell_type": "code",
   "execution_count": 6,
   "metadata": {},
   "outputs": [],
   "source": [
    "rfc5020_model = rfc5020.fit(train_data_quality)\n",
    "rfc100_model = rfc100.fit(train_data_quality)\n",
    "rfc1030_model = rfc1030.fit(train_data_quality)\n",
    "rfc_model = rfc.fit(train_data_quality)"
   ]
  },
  {
   "cell_type": "code",
   "execution_count": 7,
   "metadata": {},
   "outputs": [
    {
     "name": "stdout",
     "output_type": "stream",
     "text": [
      "----------------------------------------\n",
      "5020: A random forest ensemble has an accuracy of: 67.65%\n",
      "----------------------------------------\n",
      "100: A random forest ensemble has an accuracy of: 56.48%\n",
      "----------------------------------------\n",
      "1030: A random forest ensemble has an accuracy of: 66.41%\n",
      "----------------------------------------\n",
      "Baseline: random forest ensemble has an accuracy of: 55.62%\n"
     ]
    }
   ],
   "source": [
    "rfc5020_predictions = rfc5020_model.transform(test_data_quality)\n",
    "rfc100_predictions = rfc100_model.transform(test_data_quality)\n",
    "rfc1030_predictions = rfc1030_model.transform(test_data_quality)\n",
    "rfc_predictions = rfc_model.transform(test_data_quality)\n",
    "\n",
    "from pyspark.ml.evaluation import MulticlassClassificationEvaluator\n",
    "acc_evaluator = MulticlassClassificationEvaluator(labelCol=\"QualityIndex\", predictionCol=\"prediction\", metricName=\"accuracy\")\n",
    "\n",
    "rfc5020_acc = acc_evaluator.evaluate(rfc5020_predictions)\n",
    "rfc100_acc = acc_evaluator.evaluate(rfc100_predictions)\n",
    "rfc1030_acc = acc_evaluator.evaluate(rfc1030_predictions)\n",
    "rfc_acc = acc_evaluator.evaluate(rfc_predictions)\n",
    "\n",
    "print('-'*40)\n",
    "print('5020: A random forest ensemble has an accuracy of: {0:2.2f}%'.format(rfc5020_acc*100))\n",
    "print('-'*40)\n",
    "print('100: A random forest ensemble has an accuracy of: {0:2.2f}%'.format(rfc100_acc*100))\n",
    "print('-'*40)\n",
    "print('1030: A random forest ensemble has an accuracy of: {0:2.2f}%'.format(rfc1030_acc*100))\n",
    "print('-'*40)\n",
    "print('Baseline: random forest ensemble has an accuracy of: {0:2.2f}%'.format(rfc_acc*100))"
   ]
  },
  {
   "cell_type": "code",
   "execution_count": 8,
   "metadata": {},
   "outputs": [
    {
     "data": {
      "text/plain": [
       "Text(0,0.5,'Accuracy')"
      ]
     },
     "execution_count": 8,
     "metadata": {},
     "output_type": "execute_result"
    }
   ],
   "source": [
    "import matplotlib.pyplot as plt\n",
    "import numpy as np\n",
    "\n",
    "fig1, ax1 = plt.subplots()\n",
    "ax1.set_title(\"Alcohol: Random Forest Important Variables\")\n",
    "plt.bar(x=[\"Hybrid Model\",\"Wide Model\", \"Deep Model\", \"Baseline Model\"],\n",
    "         height=[rfc5020_acc*100,rfc100_acc*100,rfc1030_acc*100,rfc_acc*100])\n",
    "plt.ylim((50, 80))\n",
    "plt.xticks(rotation='vertical')\n",
    "plt.xlabel(\"Input Variables\")\n",
    "plt.ylabel(\"Accuracy\")"
   ]
  },
  {
   "cell_type": "code",
   "execution_count": 10,
   "metadata": {},
   "outputs": [
    {
     "data": {
      "text/plain": [
       "Text(0,0.5,'Importance')"
      ]
     },
     "execution_count": 10,
     "metadata": {},
     "output_type": "execute_result"
    },
    {
     "data": {
      "image/png": "[encoded data removed]",
      "text/plain": [
       "<Figure size 720x360 with 1 Axes>"
      ]
     },
     "metadata": {},
     "output_type": "display_data"
    }
   ],
   "source": [
    "import matplotlib.pyplot as plt\n",
    "import numpy as np\n",
    "\n",
    "plt.rcParams['figure.figsize'] = [10, 5]\n",
    "\n",
    "fig1, ax1 = plt.subplots()\n",
    "ax1.set_title(\"Quality: Random Forest Important Variables\")\n",
    "plt.bar(x=['fixed acidity', \n",
    "           'volatile acidity', \n",
    "           'citric acid',\n",
    "           'residual sugar', \n",
    "           'chlorides', \n",
    "           'free sulfur dioxide',\n",
    "           'total sulfur dioxide', \n",
    "           'density', \n",
    "           'pH', \n",
    "           'sulphates', \n",
    "           'alcohol'],\n",
    "         height=rfc5020_model.featureImportances,\n",
    "       color=[\"red\",\"green\",\"blue\",\"orange\",\"yellow\",\"brown\"])\n",
    "plt.xticks(rotation='vertical')\n",
    "plt.xlabel(\"Input Variables\")\n",
    "plt.ylabel(\"Importance\")"
   ]
  },
  {
   "cell_type": "code",
   "execution_count": null,
   "metadata": {},
   "outputs": [],
   "source": [
    "#megaTree = RandomForestClassifier(labelCol='QualityIndex',featuresCol='features',numTrees=500, maxDepth=30, seed=123456789)\n",
    "#megaTree_model = megaTree.fit(train_data_quality)"
   ]
  }
 ],
 "metadata": {
  "kernelspec": {
   "display_name": "Python 3",
   "language": "python",
   "name": "python3"
  },
  "language_info": {
   "codemirror_mode": {
    "name": "ipython",
    "version": 3
   },
   "file_extension": ".py",
   "mimetype": "text/x-python",
   "name": "python",
   "nbconvert_exporter": "python",
   "pygments_lexer": "ipython3",
   "version": "3.5.2"
  }
 },
 "nbformat": 4,
 "nbformat_minor": 2
}
