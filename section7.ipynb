{
 "cells": [
  {
   "cell_type": "code",
   "execution_count": 1,
   "metadata": {},
   "outputs": [],
   "source": [
    "import findspark\n",
    "findspark.init('/home/ubuntu/spark-2.1.1-bin-hadoop2.7')\n",
    "import pyspark\n",
    "from pyspark.sql import SparkSession\n",
    "spark = SparkSession.builder.appName('wine').getOrCreate()"
   ]
  },
  {
   "cell_type": "code",
   "execution_count": 2,
   "metadata": {},
   "outputs": [],
   "source": [
    "from pyspark.sql.types import (StructField,StringType,IntegerType,StructType,DoubleType)\n",
    "import numpy as np\n",
    "\n",
    "redData = spark.read.format(\"csv\").option(\"header\", \"true\").load(\"./data/winequality-red.csv\")\n",
    "col=redData.columns\n",
    "\n",
    "data_schema = [StructField(col[0],DoubleType(),True),\n",
    "              StructField(col[1],DoubleType(),True),\n",
    "              StructField(col[2],DoubleType(),True),\n",
    "              StructField(col[3],DoubleType(),True),\n",
    "              StructField(col[4],DoubleType(),True),\n",
    "              StructField(col[5],DoubleType(),True),\n",
    "              StructField(col[6],DoubleType(),True),\n",
    "              StructField(col[7],DoubleType(),True),\n",
    "              StructField(col[8],DoubleType(),True),\n",
    "              StructField(col[9],DoubleType(),True),\n",
    "              StructField(col[10],DoubleType(),True),\n",
    "              StructField(col[11],IntegerType(),True)]\n",
    "final_struct = StructType(fields=data_schema)\n",
    "\n",
    "redData = spark.read.format(\"csv\").option(\"header\", \"true\").load(\"./data/winequality-red.csv\", schema=final_struct)\n",
    "whiteData = spark.read.format(\"csv\").option(\"header\", \"true\").load(\"./data/winequality-white.csv\", schema=final_struct)\n",
    "\n",
    "\n",
    "from pyspark.sql.functions import lit\n",
    "\n",
    "redData=redData.withColumn(\"color\", lit('red'))\n",
    "whiteData=whiteData.withColumn(\"color\", lit('white'))\n",
    "\n",
    "combinedData = redData.union(whiteData)\n",
    "col=combinedData.columns"
   ]
  },
  {
   "cell_type": "markdown",
   "metadata": {},
   "source": [
    "First Done for Quality"
   ]
  },
  {
   "cell_type": "code",
   "execution_count": 3,
   "metadata": {},
   "outputs": [],
   "source": [
    "# A few things we need to do before Spark can accept the data!\n",
    "# It needs to be in the form of two columns: \"label\" and \"features\".\n",
    "\n",
    "# Import VectorAssembler and Vectors\n",
    "from pyspark.ml.linalg import Vectors\n",
    "from pyspark.ml.feature import VectorAssembler\n",
    "\n",
    "qualityModelsDf = alcoholContentModelDf = combinedData.select(col[0:12])\n",
    "colorModelDf = combinedData.select('fixed acidity', \n",
    "           'volatile acidity', \n",
    "           'citric acid',\n",
    "           'residual sugar', \n",
    "           'chlorides', \n",
    "           'free sulfur dioxide',\n",
    "           'total sulfur dioxide', \n",
    "           'density', \n",
    "           'pH', \n",
    "           'sulphates', \n",
    "           'alcohol',\n",
    "           'color')\n",
    "\n",
    "# Combine all features into one vector named features.\n",
    "assembler = VectorAssembler(\n",
    "inputCols=['fixed acidity', \n",
    "           'volatile acidity', \n",
    "           'citric acid',\n",
    "           'residual sugar', \n",
    "           'chlorides', \n",
    "           'free sulfur dioxide',\n",
    "           'total sulfur dioxide', \n",
    "           'density', \n",
    "           'pH', \n",
    "           'sulphates', \n",
    "           'alcohol'],\n",
    "              outputCol=\"features\")\n",
    "\n",
    "# Let's transform the data. \n",
    "outputQuality = assembler.transform(qualityModelsDf)"
   ]
  },
  {
   "cell_type": "code",
   "execution_count": 4,
   "metadata": {},
   "outputs": [],
   "source": [
    "# Let's import the string indexer (similar to the logistic regression exercises).\n",
    "from pyspark.ml.feature import StringIndexer, OneHotEncoder\n",
    "\n",
    "indexerQuality = StringIndexer(inputCol=col[11], outputCol=\"QualityIndex\")\n",
    "\n",
    "# Could not get one hot encoder to work on the target varaible #\n",
    "#quality_encoder = OneHotEncoder(inputCol='QualityIndex',outputCol='QualityVec')\n",
    "\n",
    "output_fixed_quality = indexerQuality.fit(outputQuality).transform(outputQuality)\n",
    "\n",
    "# Let's select the two columns we want. Features (which contains vectors), and the predictor.\n",
    "final_data_quality = output_fixed_quality.select(\"features\",'QualityIndex')\n",
    "\n",
    "# Split the training and testing set.\n",
    "train_data_quality,test_data_quality = final_data_quality.randomSplit([0.8,0.2])"
   ]
  },
  {
   "cell_type": "markdown",
   "metadata": {},
   "source": [
    "Models For Quality: Decision Tree and Random Forest"
   ]
  },
  {
   "cell_type": "code",
   "execution_count": 5,
   "metadata": {},
   "outputs": [],
   "source": [
    "from pyspark.ml.classification import DecisionTreeClassifier,GBTClassifier,RandomForestClassifier\n",
    "from pyspark.ml import Pipeline\n",
    "\n",
    "\n",
    "dtc = DecisionTreeClassifier(labelCol='QualityIndex',featuresCol='features', seed=123456789)\n",
    "rfc = RandomForestClassifier(labelCol='QualityIndex',featuresCol='features', seed=123456789)"
   ]
  },
  {
   "cell_type": "code",
   "execution_count": 6,
   "metadata": {},
   "outputs": [],
   "source": [
    "dtc_model = dtc.fit(train_data_quality)\n",
    "rfc_model = rfc.fit(train_data_quality)"
   ]
  },
  {
   "cell_type": "code",
   "execution_count": 7,
   "metadata": {},
   "outputs": [],
   "source": [
    "dtc_predictions = dtc_model.transform(test_data_quality)\n",
    "rfc_predictions = rfc_model.transform(test_data_quality)"
   ]
  },
  {
   "cell_type": "code",
   "execution_count": 8,
   "metadata": {},
   "outputs": [
    {
     "name": "stdout",
     "output_type": "stream",
     "text": [
      "----------------------------------------\n",
      "A single decision tree has an accuracy of: 52.62%\n",
      "----------------------------------------\n",
      "A random forest ensemble has an accuracy of: 54.31%\n"
     ]
    }
   ],
   "source": [
    "from pyspark.ml.evaluation import MulticlassClassificationEvaluator\n",
    "acc_evaluator = MulticlassClassificationEvaluator(labelCol=\"QualityIndex\", predictionCol=\"prediction\", metricName=\"accuracy\")\n",
    "\n",
    "dtc_acc = acc_evaluator.evaluate(dtc_predictions)\n",
    "rfc_acc = acc_evaluator.evaluate(rfc_predictions)\n",
    "\n",
    "print('-'*40)\n",
    "print('A single decision tree has an accuracy of: {0:2.2f}%'.format(dtc_acc*100))\n",
    "print('-'*40)\n",
    "print('A random forest ensemble has an accuracy of: {0:2.2f}%'.format(rfc_acc*100))"
   ]
  },
  {
   "cell_type": "code",
   "execution_count": 9,
   "metadata": {},
   "outputs": [
    {
     "data": {
      "text/plain": [
       "Text(0,0.5,'Importance')"
      ]
     },
     "execution_count": 9,
     "metadata": {},
     "output_type": "execute_result"
    }
   ],
   "source": [
    "import matplotlib.pyplot as plt\n",
    "import numpy as np\n",
    "\n",
    "plt.rcParams['figure.figsize'] = [10, 5]\n",
    "\n",
    "fig1, ax1 = plt.subplots()\n",
    "ax1.set_title(\"Quality: Decision Tree Important Variables\")\n",
    "plt.bar(x=['fixed acidity', \n",
    "           'volatile acidity', \n",
    "           'citric acid',\n",
    "           'residual sugar', \n",
    "           'chlorides', \n",
    "           'free sulfur dioxide',\n",
    "           'total sulfur dioxide', \n",
    "           'density', \n",
    "           'pH', \n",
    "           'sulphates', \n",
    "           'alcohol'],\n",
    "         height=dtc_model.featureImportances,\n",
    "       color=[\"red\",\"green\",\"blue\",\"orange\",\"yellow\",\"brown\"])\n",
    "plt.xticks(rotation='vertical')\n",
    "plt.xlabel(\"Input Variables\")\n",
    "plt.ylabel(\"Importance\")\n",
    "\n",
    "fig1, ax1 = plt.subplots()\n",
    "ax1.set_title(\"Quality: Random Forest Important Variables\")\n",
    "plt.bar(x=['fixed acidity', \n",
    "           'volatile acidity', \n",
    "           'citric acid',\n",
    "           'residual sugar', \n",
    "           'chlorides', \n",
    "           'free sulfur dioxide',\n",
    "           'total sulfur dioxide', \n",
    "           'density', \n",
    "           'pH', \n",
    "           'sulphates', \n",
    "           'alcohol'],\n",
    "         height=rfc_model.featureImportances,\n",
    "       color=[\"red\",\"green\",\"blue\",\"orange\",\"yellow\",\"brown\"])\n",
    "plt.xticks(rotation='vertical')\n",
    "plt.xlabel(\"Input Variables\")\n",
    "plt.ylabel(\"Importance\")"
   ]
  },
  {
   "cell_type": "code",
   "execution_count": 10,
   "metadata": {
    "scrolled": false
   },
   "outputs": [],
   "source": [
    "# GBT ONLY CURRENTLY SUPPORTS BINARY CLASSIFICATION\n",
    "#from pyspark.ml.classification import GBTClassifier\n",
    "\n",
    "#gbt = GBTClassifier(maxIter=10,labelCol='QualityIndex',featuresCol='features', seed=123456789)\n",
    "#gbtModel = gbt.fit(train_data_quality)"
   ]
  },
  {
   "cell_type": "code",
   "execution_count": 11,
   "metadata": {},
   "outputs": [
    {
     "name": "stdout",
     "output_type": "stream",
     "text": [
      "----------------------------------------\n",
      "MultiLayer Perceptron has an accuracy of: 44.76%\n"
     ]
    }
   ],
   "source": [
    "from pyspark.ml.classification import MultilayerPerceptronClassifier\n",
    "from pyspark.ml.evaluation import MulticlassClassificationEvaluator\n",
    "\n",
    "layers = [11, 5, 4, 7]\n",
    "\n",
    "# create the trainer and set its parameters\n",
    "trainer = MultilayerPerceptronClassifier(labelCol='QualityIndex',featuresCol = 'features', maxIter=100, layers=layers, blockSize=128, seed=1234)\n",
    "\n",
    "NNmodel = trainer.fit(train_data_quality)\n",
    "\n",
    "NN_predictions = NNmodel.transform(test_data_quality)\n",
    "\n",
    "NN_acc = acc_evaluator.evaluate(NN_predictions)\n",
    "\n",
    "\n",
    "print('-'*40)\n",
    "print('MultiLayer Perceptron has an accuracy of: {0:2.2f}%'.format(NN_acc*100))"
   ]
  },
  {
   "cell_type": "markdown",
   "metadata": {},
   "source": [
    "Then Done for Alcohol"
   ]
  },
  {
   "cell_type": "code",
   "execution_count": 12,
   "metadata": {},
   "outputs": [],
   "source": [
    "# Combine all features into one vector named features.\n",
    "assemblerAlc = VectorAssembler(\n",
    "inputCols=['fixed acidity', \n",
    "           'volatile acidity', \n",
    "           'citric acid',\n",
    "           'residual sugar', \n",
    "           'chlorides', \n",
    "           'free sulfur dioxide',\n",
    "           'total sulfur dioxide', \n",
    "           'density', \n",
    "           'pH', \n",
    "           'sulphates', \n",
    "           'quality'],\n",
    "              outputCol=\"featuresAlc\")\n",
    "\n",
    "# Let's transform the data. \n",
    "outputAlcohol = assemblerAlc.transform(alcoholContentModelDf)"
   ]
  },
  {
   "cell_type": "code",
   "execution_count": 13,
   "metadata": {},
   "outputs": [],
   "source": [
    "final_data_alcohol = outputAlcohol.select(\"featuresAlc\",'alcohol')\n",
    "\n",
    "# Split the training and testing set.\n",
    "train_data_alcohol,test_data_alcohol = final_data_alcohol.randomSplit([0.8,0.2])"
   ]
  },
  {
   "cell_type": "markdown",
   "metadata": {},
   "source": [
    "Models for Alcohol: Random Forest/Decision Tree || Gradient Boosting Tree"
   ]
  },
  {
   "cell_type": "code",
   "execution_count": 14,
   "metadata": {},
   "outputs": [],
   "source": [
    "from pyspark.ml.regression import DecisionTreeRegressor\n",
    "from pyspark.ml.evaluation import RegressionEvaluator\n",
    "\n",
    "dt = DecisionTreeRegressor(featuresCol=\"featuresAlc\",labelCol=\"alcohol\", seed=123456789)\n",
    "dtModel = dt.fit(train_data_alcohol)\n",
    "dtPredictions = dtModel.transform(test_data_alcohol)\n",
    "\n",
    "from pyspark.ml.regression import RandomForestRegressor\n",
    "\n",
    "rf = RandomForestRegressor(featuresCol=\"featuresAlc\",labelCol=\"alcohol\", seed=123456789)\n",
    "rfModel = rf.fit(train_data_alcohol)\n",
    "rfPredictions = rfModel.transform(test_data_alcohol)"
   ]
  },
  {
   "cell_type": "code",
   "execution_count": 15,
   "metadata": {},
   "outputs": [
    {
     "name": "stdout",
     "output_type": "stream",
     "text": [
      "Decision Tree: Root Mean Squared Error (RMSE) on test data = 0.71261\n",
      "Random Forest: Root Mean Squared Error (RMSE) on test data = 0.700851\n",
      "Decision Tree: R2 on test data = 0.664614\n",
      "Random Forest: R2 on test data = 0.675591\n"
     ]
    }
   ],
   "source": [
    "evaluator = RegressionEvaluator(labelCol=\"alcohol\", predictionCol=\"prediction\", metricName=\"rmse\")\n",
    "rmseDt = evaluator.evaluate(dtPredictions)\n",
    "rmseRf = evaluator.evaluate(rfPredictions)\n",
    "print(\"Decision Tree: Root Mean Squared Error (RMSE) on test data = %g\" % rmseDt)\n",
    "print(\"Random Forest: Root Mean Squared Error (RMSE) on test data = %g\" % rmseRf)\n",
    "\n",
    "evaluatorR2 = RegressionEvaluator(labelCol=\"alcohol\", predictionCol=\"prediction\", metricName=\"r2\")\n",
    "r2Dt = evaluatorR2.evaluate(dtPredictions)\n",
    "r2Rf = evaluatorR2.evaluate(rfPredictions)\n",
    "print(\"Decision Tree: R2 on test data = %g\" % r2Dt)\n",
    "print(\"Random Forest: R2 on test data = %g\" % r2Rf)"
   ]
  },
  {
   "cell_type": "code",
   "execution_count": 16,
   "metadata": {},
   "outputs": [
    {
     "data": {
      "text/plain": [
       "Text(0,0.5,'Importance')"
      ]
     },
     "execution_count": 16,
     "metadata": {},
     "output_type": "execute_result"
    },
    {
     "data": {
      "image/png": "[encoded data removed]",
      "text/plain": [
       "<Figure size 720x360 with 1 Axes>"
      ]
     },
     "metadata": {},
     "output_type": "display_data"
    },
    {
     "data": {
      "image/png": "[encoded data removed]",
      "text/plain": [
       "<Figure size 720x360 with 1 Axes>"
      ]
     },
     "metadata": {},
     "output_type": "display_data"
    }
   ],
   "source": [
    "import matplotlib.pyplot as plt\n",
    "import numpy as np\n",
    "\n",
    "plt.rcParams['figure.figsize'] = [10, 5]\n",
    "\n",
    "fig1, ax1 = plt.subplots()\n",
    "ax1.set_title(\"Alcohol: Decision Tree Important Variables\")\n",
    "plt.bar(x=['fixed acidity', \n",
    "           'volatile acidity', \n",
    "           'citric acid',\n",
    "           'residual sugar', \n",
    "           'chlorides', \n",
    "           'free sulfur dioxide',\n",
    "           'total sulfur dioxide', \n",
    "           'density', \n",
    "           'pH', \n",
    "           'sulphates', \n",
    "           'quality'],\n",
    "         height=dtModel.featureImportances,\n",
    "       color=[\"red\",\"green\",\"blue\",\"orange\",\"yellow\",\"brown\"])\n",
    "plt.xticks(rotation='vertical')\n",
    "plt.xlabel(\"Input Variables\")\n",
    "plt.ylabel(\"Importance\")\n",
    "\n",
    "fig1, ax1 = plt.subplots()\n",
    "ax1.set_title(\"Alcohol: Random Forest Important Variables\")\n",
    "plt.bar(x=['fixed acidity', \n",
    "           'volatile acidity', \n",
    "           'citric acid',\n",
    "           'residual sugar', \n",
    "           'chlorides', \n",
    "           'free sulfur dioxide',\n",
    "           'total sulfur dioxide', \n",
    "           'density', \n",
    "           'pH', \n",
    "           'sulphates', \n",
    "           'quality'],\n",
    "         height=rfModel.featureImportances,\n",
    "       color=[\"red\",\"green\",\"blue\",\"orange\",\"yellow\",\"brown\"])\n",
    "plt.xticks(rotation='vertical')\n",
    "plt.xlabel(\"Input Variables\")\n",
    "plt.ylabel(\"Importance\")\n"
   ]
  },
  {
   "cell_type": "code",
   "execution_count": 17,
   "metadata": {},
   "outputs": [
    {
     "name": "stdout",
     "output_type": "stream",
     "text": [
      "GB Tree (max iter. 10): Root Mean Squared Error (RMSE) on test data = 0.589465\n",
      "GB Tree (max iter. 100): Root Mean Squared Error (RMSE) on test data = 0.456859\n",
      "GB Tree (max iter. 10): R2 on test data = 0.770514\n",
      "GB Tree (max iter. 100): R2 on test data = 0.86215\n"
     ]
    }
   ],
   "source": [
    "from pyspark.ml.regression import GBTRegressor\n",
    "\n",
    "gbtR10 = GBTRegressor(maxIter=10,featuresCol=\"featuresAlc\",labelCol=\"alcohol\", seed=123456789)\n",
    "gbtRModel10 = gbtR10.fit(train_data_alcohol)\n",
    "gbtR100 = GBTRegressor(maxIter=100,featuresCol=\"featuresAlc\",labelCol=\"alcohol\", seed=123456789)\n",
    "gbtRModel100 = gbtR100.fit(train_data_alcohol)\n",
    "\n",
    "predictionsgbtR10 = gbtRModel10.transform(test_data_alcohol)\n",
    "predictionsgbtR100 = gbtRModel100.transform(test_data_alcohol)\n",
    "\n",
    "evaluatorgbtRrmse = RegressionEvaluator(labelCol=\"alcohol\", predictionCol=\"prediction\", metricName=\"rmse\")\n",
    "rmsegbtR10 = evaluatorgbtRrmse.evaluate(predictionsgbtR10)\n",
    "rmsegbtR100 = evaluatorgbtRrmse.evaluate(predictionsgbtR100)\n",
    "print(\"GB Tree (max iter. 10): Root Mean Squared Error (RMSE) on test data = %g\" % rmsegbtR10)\n",
    "print(\"GB Tree (max iter. 100): Root Mean Squared Error (RMSE) on test data = %g\" % rmsegbtR100)\n",
    "\n",
    "evaluatorgbtR = RegressionEvaluator(labelCol=\"alcohol\", predictionCol=\"prediction\", metricName=\"r2\")\n",
    "r2gbtR10 = evaluatorgbtR.evaluate(predictionsgbtR10)\n",
    "r2gbtR100 = evaluatorgbtR.evaluate(predictionsgbtR100)\n",
    "print(\"GB Tree (max iter. 10): R2 on test data = %g\" % r2gbtR10)\n",
    "print(\"GB Tree (max iter. 100): R2 on test data = %g\" % r2gbtR100)"
   ]
  },
  {
   "cell_type": "code",
   "execution_count": 18,
   "metadata": {},
   "outputs": [
    {
     "data": {
      "text/plain": [
       "Text(0,0.5,'Importance')"
      ]
     },
     "execution_count": 18,
     "metadata": {},
     "output_type": "execute_result"
    },
    {
     "data": {
      "image/png": "[encoded data removed]",
      "text/plain": [
       "<Figure size 720x360 with 1 Axes>"
      ]
     },
     "metadata": {},
     "output_type": "display_data"
    }
   ],
   "source": [
    "import matplotlib.pyplot as plt\n",
    "import numpy as np\n",
    "\n",
    "plt.rcParams['figure.figsize'] = [10, 5]\n",
    "\n",
    "fig1, ax1 = plt.subplots()\n",
    "ax1.set_title(\"Alcohol: GB Tree (max iter. 100) Important Variables\")\n",
    "plt.bar(x=['fixed acidity', \n",
    "           'volatile acidity', \n",
    "           'citric acid',\n",
    "           'residual sugar', \n",
    "           'chlorides', \n",
    "           'free sulfur dioxide',\n",
    "           'total sulfur dioxide', \n",
    "           'density', \n",
    "           'pH', \n",
    "           'sulphates', \n",
    "           'quality'],\n",
    "         height=gbtRModel100.featureImportances,\n",
    "       color=[\"red\",\"green\",\"blue\",\"orange\",\"yellow\",\"brown\"])\n",
    "plt.xticks(rotation='vertical')\n",
    "plt.xlabel(\"Input Variables\")\n",
    "plt.ylabel(\"Importance\")"
   ]
  },
  {
   "cell_type": "markdown",
   "metadata": {},
   "source": [
    "Then Done for Color"
   ]
  },
  {
   "cell_type": "code",
   "execution_count": 19,
   "metadata": {},
   "outputs": [],
   "source": [
    "assembler = VectorAssembler(\n",
    "inputCols=['fixed acidity', \n",
    "           'volatile acidity', \n",
    "           'citric acid',\n",
    "           'residual sugar', \n",
    "           'chlorides', \n",
    "           'free sulfur dioxide',\n",
    "           'total sulfur dioxide', \n",
    "           'density', \n",
    "           'pH', \n",
    "           'sulphates', \n",
    "           'alcohol'],\n",
    "              outputCol=\"featuresCol\")\n",
    "\n",
    "# Let's transform the data. \n",
    "outputColor = assembler.transform(colorModelDf)"
   ]
  },
  {
   "cell_type": "code",
   "execution_count": 20,
   "metadata": {},
   "outputs": [],
   "source": [
    "# Let's import the string indexer (similar to the logistic regression exercises).\n",
    "from pyspark.ml.feature import StringIndexer\n",
    "\n",
    "indexerColor = StringIndexer(inputCol=col[12], outputCol=\"ColorIndex\")\n",
    "output_fixed_color = indexerColor.fit(outputColor).transform(outputColor)\n",
    "\n",
    "# Let's select the two columns we want. Features (which contains vectors), and the predictor.\n",
    "final_data_color = output_fixed_color.select(\"featuresCol\",'ColorIndex')\n",
    "\n",
    "# Split the training and testing set.\n",
    "train_data_color,test_data_color = final_data_color.randomSplit([0.8,0.2])"
   ]
  },
  {
   "cell_type": "markdown",
   "metadata": {},
   "source": [
    "Models for Color: Random Forest/Decision Tree || Gradient Boosting Tree"
   ]
  },
  {
   "cell_type": "code",
   "execution_count": 21,
   "metadata": {},
   "outputs": [],
   "source": [
    "# Let's import the relevant classifiers. \n",
    "from pyspark.ml.classification import DecisionTreeClassifier,GBTClassifier,RandomForestClassifier\n",
    "from pyspark.ml import Pipeline\n",
    "\n",
    "# Use defaults to make the comparison \"fair\". This simplifies the comparison process.\n",
    "\n",
    "dtcC = DecisionTreeClassifier(labelCol='ColorIndex',featuresCol='featuresCol', seed=123456789)\n",
    "rfcC = RandomForestClassifier(labelCol='ColorIndex',featuresCol='featuresCol', seed=123456789)"
   ]
  },
  {
   "cell_type": "code",
   "execution_count": 22,
   "metadata": {},
   "outputs": [],
   "source": [
    "# Train the models (it's three models, so it might take some time).\n",
    "dtcC_model = dtcC.fit(train_data_color)\n",
    "rfcC_model = rfcC.fit(train_data_color)\n",
    "\n",
    "# Current GB only works with binary classification"
   ]
  },
  {
   "cell_type": "code",
   "execution_count": 23,
   "metadata": {},
   "outputs": [],
   "source": [
    "dtcC_predictions = dtcC_model.transform(test_data_color)\n",
    "rfcC_predictions = rfcC_model.transform(test_data_color)"
   ]
  },
  {
   "cell_type": "code",
   "execution_count": 24,
   "metadata": {},
   "outputs": [
    {
     "name": "stdout",
     "output_type": "stream",
     "text": [
      "----------------------------------------\n",
      "Color: A single decision tree has an accuracy of: 95.12%\n",
      "----------------------------------------\n",
      "Color: A random forest ensemble has an accuracy of: 99.68%\n"
     ]
    }
   ],
   "source": [
    "from pyspark.ml.evaluation import BinaryClassificationEvaluator\n",
    "my_binary_eval = BinaryClassificationEvaluator(labelCol = 'ColorIndex')\n",
    "\n",
    "dtcC_acc = my_binary_eval.evaluate(dtcC_predictions)\n",
    "rfcC_acc = my_binary_eval.evaluate(rfcC_predictions)\n",
    "\n",
    "print('-'*40)\n",
    "print('Color: A single decision tree has an accuracy of: {0:2.2f}%'.format(dtcC_acc*100))\n",
    "print('-'*40)\n",
    "print('Color: A random forest ensemble has an accuracy of: {0:2.2f}%'.format(rfcC_acc*100))"
   ]
  },
  {
   "cell_type": "code",
   "execution_count": 25,
   "metadata": {},
   "outputs": [
    {
     "data": {
      "text/plain": [
       "Text(0,0.5,'Importance')"
      ]
     },
     "execution_count": 25,
     "metadata": {},
     "output_type": "execute_result"
    },
    {
     "data": {
      "image/png": "[encoded data removed]",
      "text/plain": [
       "<Figure size 720x360 with 1 Axes>"
      ]
     },
     "metadata": {},
     "output_type": "display_data"
    },
    {
     "data": {
      "image/png": "[encoded data removed]",
      "text/plain": [
       "<Figure size 720x360 with 1 Axes>"
      ]
     },
     "metadata": {},
     "output_type": "display_data"
    }
   ],
   "source": [
    "import matplotlib.pyplot as plt\n",
    "import numpy as np\n",
    "\n",
    "plt.rcParams['figure.figsize'] = [10, 5]\n",
    "\n",
    "fig1, ax1 = plt.subplots()\n",
    "ax1.set_title(\"Color: Decision Tree Important Variables\")\n",
    "plt.bar(x=['fixed acidity', \n",
    "           'volatile acidity', \n",
    "           'citric acid',\n",
    "           'residual sugar', \n",
    "           'chlorides', \n",
    "           'free sulfur dioxide',\n",
    "           'total sulfur dioxide', \n",
    "           'density', \n",
    "           'pH', \n",
    "           'sulphates', \n",
    "           'alcohol'],\n",
    "         height=dtcC_model.featureImportances,\n",
    "       color=[\"red\",\"green\",\"blue\",\"orange\",\"yellow\",\"brown\"])\n",
    "plt.xticks(rotation='vertical')\n",
    "plt.xlabel(\"Input Variables\")\n",
    "plt.ylabel(\"Importance\")\n",
    "\n",
    "fig1, ax1 = plt.subplots()\n",
    "ax1.set_title(\"Color: Random Forest Important Variables\")\n",
    "plt.bar(x=['fixed acidity', \n",
    "           'volatile acidity', \n",
    "           'citric acid',\n",
    "           'residual sugar', \n",
    "           'chlorides', \n",
    "           'free sulfur dioxide',\n",
    "           'total sulfur dioxide', \n",
    "           'density', \n",
    "           'pH', \n",
    "           'sulphates', \n",
    "           'alcohol'],\n",
    "         height=rfcC_model.featureImportances,\n",
    "       color=[\"red\",\"green\",\"blue\",\"orange\",\"yellow\",\"brown\"])\n",
    "plt.xticks(rotation='vertical')\n",
    "plt.xlabel(\"Input Variables\")\n",
    "plt.ylabel(\"Importance\")"
   ]
  },
  {
   "cell_type": "code",
   "execution_count": 26,
   "metadata": {},
   "outputs": [
    {
     "name": "stdout",
     "output_type": "stream",
     "text": [
      "Color GBT Accuracy: 98.27721221613156 %\n"
     ]
    }
   ],
   "source": [
    "from pyspark.ml.classification import GBTClassifier\n",
    "import numpy as np\n",
    "\n",
    "gbt = GBTClassifier(maxIter=10,labelCol='ColorIndex',featuresCol='featuresCol', seed=123456789)\n",
    "gbtModel = gbt.fit(train_data_color)\n",
    "\n",
    "predictions = gbtModel.transform(test_data_color)\n",
    "#predictions.show()\n",
    "#predictions.select(\"ColorIndex\",\"prediction\")\n",
    "\n",
    "#print(predictions.columns)\n",
    "a=np.asarray(predictions.select('ColorIndex').collect())\n",
    "b=np.asarray(predictions.select('prediction').collect())\n",
    "acc=np.absolute(a-b)\n",
    "print(\"Color GBT Accuracy: \"+str((1-(np.sum(acc)/predictions.select('ColorIndex').count()))*100) + \" %\")"
   ]
  },
  {
   "cell_type": "code",
   "execution_count": 27,
   "metadata": {},
   "outputs": [
    {
     "data": {
      "text/plain": [
       "Text(0,0.5,'Importance')"
      ]
     },
     "execution_count": 27,
     "metadata": {},
     "output_type": "execute_result"
    },
    {
     "data": {
      "image/png": "[encoded data removed]",
      "text/plain": [
       "<Figure size 720x360 with 1 Axes>"
      ]
     },
     "metadata": {},
     "output_type": "display_data"
    }
   ],
   "source": [
    "import matplotlib.pyplot as plt\n",
    "import numpy as np\n",
    "\n",
    "plt.rcParams['figure.figsize'] = [10, 5]\n",
    "\n",
    "fig1, ax1 = plt.subplots()\n",
    "ax1.set_title(\"Color: GB Boosting Tree Important Variables\")\n",
    "plt.bar(x=['fixed acidity', \n",
    "           'volatile acidity', \n",
    "           'citric acid',\n",
    "           'residual sugar', \n",
    "           'chlorides', \n",
    "           'free sulfur dioxide',\n",
    "           'total sulfur dioxide', \n",
    "           'density', \n",
    "           'pH', \n",
    "           'sulphates', \n",
    "           'alcohol'],\n",
    "         height=gbtModel.featureImportances,\n",
    "       color=[\"red\",\"green\",\"blue\",\"orange\",\"yellow\",\"brown\"])\n",
    "plt.xticks(rotation='vertical')\n",
    "plt.xlabel(\"Input Variables\")\n",
    "plt.ylabel(\"Importance\")"
   ]
  }
 ],
 "metadata": {
  "kernelspec": {
   "display_name": "Python 3",
   "language": "python",
   "name": "python3"
  },
  "language_info": {
   "codemirror_mode": {
    "name": "ipython",
    "version": 3
   },
   "file_extension": ".py",
   "mimetype": "text/x-python",
   "name": "python",
   "nbconvert_exporter": "python",
   "pygments_lexer": "ipython3",
   "version": "3.5.2"
  }
 },
 "nbformat": 4,
 "nbformat_minor": 2
}
